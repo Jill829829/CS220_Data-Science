{
 "cells": [
  {
   "cell_type": "markdown",
   "id": "a1e8226b",
   "metadata": {},
   "source": [
    "# Lab-P12:  Web Requests, Caching, DataFrames and Scraping"
   ]
  },
  {
   "cell_type": "markdown",
   "id": "851f4fe3",
   "metadata": {},
   "source": [
    "In this lab, you will practice how to:\n",
    "\n",
    "* use HTTP requests to download content from the internet,\n",
    "* cache data onto your computer,\n",
    "* construct and modify DataFrames to analyze datasets,\n",
    "* use `BeautifulSoup` to parse web pages and extract useful information."
   ]
  },
  {
   "cell_type": "markdown",
   "id": "5a21135b",
   "metadata": {},
   "source": [
    "## Segment 1: Web Requests and File Downloads"
   ]
  },
  {
   "cell_type": "markdown",
   "id": "8316db82",
   "metadata": {},
   "source": [
    "We will first import some important modules"
   ]
  },
  {
   "cell_type": "code",
   "execution_count": 39,
   "id": "9bb3595f",
   "metadata": {},
   "outputs": [],
   "source": [
    "# it is considered a good coding practice to place all import statements at the top of the notebook\n",
    "# please place all your import statements in this cell if you need to import any more modules for this lab\n",
    "\n",
    "# we have imported these modules for you\n",
    "import requests\n",
    "import os\n",
    "import json\n",
    "import pandas as pd\n",
    "from bs4 import BeautifulSoup"
   ]
  },
  {
   "cell_type": "markdown",
   "id": "952a3bea",
   "metadata": {},
   "source": [
    "### Task 1.1: Fetch `rankings.json` from an internet URL\n",
    "\n",
    "Use the `requests` library to fetch the file at this URL: `https://git.doit.wisc.edu/cdis/cs/courses/cs220/cs220-f22-projects/-/raw/main/p12/rankings.json`. Make sure to call the appropriate function to **raise** an HTTPError if status code is not `200`.\n",
    "\n",
    "Then create a variable called `file_text` that saves the text of the response.\n",
    "\n",
    "**Hint:** You can review the relevant lecture code [here](https://git.doit.wisc.edu/cdis/cs/courses/cs220/cs220-lecture-material/-/tree/main/f22/meena_lec_notes/lec-29)."
   ]
  },
  {
   "cell_type": "code",
   "execution_count": 40,
   "id": "c239ddf1",
   "metadata": {},
   "outputs": [],
   "source": [
    "# compute and store the answer in the variable 'file_text', but do NOT display it\n",
    "url = \"https://git.doit.wisc.edu/cdis/cs/courses/cs220/cs220-f22-projects/-/raw/main/p12/rankings.json\"\n",
    "r = requests.get(url)\n",
    "file_text = r.text"
   ]
  },
  {
   "cell_type": "code",
   "execution_count": 41,
   "id": "954c89dd",
   "metadata": {},
   "outputs": [],
   "source": [
    "# run this cell to confirm that your variable has been defined properly\n",
    "\n",
    "assert file_text[:30] == '[\\n    {\\n        \"World Rank\": '"
   ]
  },
  {
   "cell_type": "code",
   "execution_count": 42,
   "id": "ef12659a",
   "metadata": {},
   "outputs": [],
   "source": [
    "# for self-test only\n",
    "# file_text"
   ]
  },
  {
   "cell_type": "markdown",
   "id": "b5814286",
   "metadata": {},
   "source": [
    "### Task 1.2: Save `rankings.json` as a file\n",
    "\n",
    "Open a file in write mode called `rankings.json`, and write the contents of the variable `file_text` into it. Make sure to **close** the file afterwards (unless you used a `with` block to open the file).\n",
    "\n",
    "**Hint:** You can review the relevant lecture code [here](https://git.doit.wisc.edu/cdis/cs/courses/cs220/cs220-lecture-material/-/tree/main/f22/meena_lec_notes/lec-26)"
   ]
  },
  {
   "cell_type": "code",
   "execution_count": 43,
   "id": "3ee0965b",
   "metadata": {},
   "outputs": [],
   "source": [
    "# write your code here\n",
    "with open(\"rankings.json\", mode = \"w\", encoding = \"utf-8\") as f:\n",
    "    f.write(file_text)\n",
    "    "
   ]
  },
  {
   "cell_type": "code",
   "execution_count": 44,
   "id": "399c19b9",
   "metadata": {},
   "outputs": [],
   "source": [
    "# run this cell to confirm that your file has been created\n",
    "\n",
    "assert(os.path.exists(\"rankings.json\"))"
   ]
  },
  {
   "cell_type": "markdown",
   "id": "7d7b02de",
   "metadata": {},
   "source": [
    "Note that the cell above only checked if the file had been created, and **not** whether it contains the correct data. You must check that yourself. Check your `lab-p12` directory in Finder (Mac) / Explorer (Windows). It should now have a file called `rankings.json`. **Manually open** this file and confirm that it contains the contents of the page [`rankings.json`](https://git.doit.wisc.edu/cdis/cs/courses/cs220/cs220-f22-projects/-/raw/main/p12/rankings.json)."
   ]
  },
  {
   "cell_type": "markdown",
   "id": "c87c927b",
   "metadata": {},
   "source": [
    "### Task 1.3: Implement the `download` function\n",
    "\n",
    "Now, you will implement a function `download` to download data from the internet and save it to a file. \n",
    "\n",
    "This function takes in two arguments `filename` and `url`. The contents at the address pointed to by the `url` field should be saved into the file whose path is specified by `filename`. Remember that you can reuse the code you wrote above."
   ]
  },
  {
   "cell_type": "code",
   "execution_count": 45,
   "id": "970b97a3",
   "metadata": {},
   "outputs": [],
   "source": [
    "def download(filename, url):\n",
    "    if os.path.exists(filename):\n",
    "        return (str(filename) + \" already exists!\")\n",
    "    # Do not do request if the file already exists (\"<filemname> already exists\")!\n",
    "\n",
    "    # TODO: make the request\n",
    "    r = requests.get(url)\n",
    "    # TODO: raise an HTTPError if status code is not 200\n",
    "    r.raise_for_status()\n",
    "    # TODO: get the text\n",
    "    contents = r.text\n",
    "    # TODO: open the file (with 'utf-8' encoding)\n",
    "    with open(filename, mode = \"w\", encoding = \"UTF-8\") as f:\n",
    "        f.write(contents)\n",
    "    # TODO: write to the file\n",
    "    # TODO: close the file\n",
    "    return (str(filename) + \" created!\")\n"
   ]
  },
  {
   "cell_type": "markdown",
   "id": "c15ee7eb",
   "metadata": {},
   "source": [
    "### Task 1.4: Implement caching in the `download` function\n",
    "\n",
    "The function `download` above is however, not quite what we want. One big disadvantage is that it **downloads** the file even if it has already been created. Fetching data from webpages takes both time and resources, and **must** be avoided as much as possible. In particular, repeatedly downloading files that have been already downloaded is a **very bad** coding practices, and **must** be avoided. \n",
    "\n",
    "Your `download` function above is particularly troublesome to use in a Jupyter Notebook, as it will try to fetch data over the internet **every time** your notebook is restarted (or the cell with the call to `download` is run).\n",
    "\n",
    "Now go back and **modify** `download` to implement *caching*. This means that **before** downloading the file from the internet, the function **must** check if the file already exists. If the file already exists, the function should return the message `\"<filename> already exists!\"` where `filename` is the argument. It should **not** make a request.\n",
    "\n",
    "**Hint:** You can use the `os.path.exists` function to check if the `filename` already exists."
   ]
  },
  {
   "cell_type": "markdown",
   "id": "70603939",
   "metadata": {},
   "source": [
    "### Task 1.5: Test the `download` function\n",
    "\n",
    "Run the two cells below to test your function. Think about why the test code is written in this way. Ask a TA if you're not sure."
   ]
  },
  {
   "cell_type": "code",
   "execution_count": 46,
   "id": "1738cc49",
   "metadata": {},
   "outputs": [],
   "source": [
    "# delete the file if it already exists and download the file\n",
    "\n",
    "rankings_url = \"https://git.doit.wisc.edu/cdis/cs/courses/cs220/cs220-f22-projects/-/raw/main/p12/rankings.json\"\n",
    "\n",
    "if os.path.exists(\"rankings.json\"):\n",
    "    os.remove(\"rankings.json\") # delete the existing file\n",
    "\n",
    "assert download(\"rankings.json\", rankings_url) == \"rankings.json created!\"\n",
    "assert(os.path.exists(\"rankings.json\"))\n",
    "assert(os.path.getsize(\"rankings.json\") > 1600000 and os.path.getsize(\"rankings.json\") < 2500000)"
   ]
  },
  {
   "cell_type": "code",
   "execution_count": 47,
   "id": "26928b02",
   "metadata": {},
   "outputs": [],
   "source": [
    "# verify that the function does not download again if file already exists\n",
    "\n",
    "f = open(\"rankings.json\", \"w\") # rewrite the contents of the file\n",
    "f.close()\n",
    "assert (download(\"rankings.json\",rankings_url) == \"rankings.json already exists!\" )\n",
    "assert(os.path.getsize(\"rankings.json\") == 0) # check that the file was not redownloaded\n",
    "os.remove(\"rankings.json\")\n",
    "assert download(\"rankings.json\", rankings_url) == \"rankings.json created!\""
   ]
  },
  {
   "cell_type": "markdown",
   "id": "56498bf7",
   "metadata": {},
   "source": [
    "You **must** use this `download` function to download files during p12. This will ensure that you do not download the files each time you 'Restart & Run All'."
   ]
  },
  {
   "cell_type": "markdown",
   "id": "b3ce745f",
   "metadata": {},
   "source": [
    "## Segment 2:  Creating DataFrames\n",
    "\n",
    "For this project, we will be analyzing statistics about world university rankings adapted from\n",
    "[here](https://cwur.org/). The `rankings.json` file was created by scraping content from pages on the linked website. \n",
    "\n",
    "We are going to use `pandas` throughout the lab and project to analyze this dataset."
   ]
  },
  {
   "cell_type": "markdown",
   "id": "470c2330",
   "metadata": {},
   "source": [
    "### Task 2.1: Load data from `rankings.json` into a dataframe"
   ]
  },
  {
   "cell_type": "markdown",
   "id": "740cc6f8",
   "metadata": {},
   "source": [
    "In lecture, you reviewed different ways to create pandas DataFrames. For this task, create a DataFrame `rankings` by reading the JSON data saved in `rankings.json`. "
   ]
  },
  {
   "cell_type": "code",
   "execution_count": 49,
   "id": "c2e910b5",
   "metadata": {
    "scrolled": false
   },
   "outputs": [
    {
     "data": {
      "text/html": [
       "<div>\n",
       "<style scoped>\n",
       "    .dataframe tbody tr th:only-of-type {\n",
       "        vertical-align: middle;\n",
       "    }\n",
       "\n",
       "    .dataframe tbody tr th {\n",
       "        vertical-align: top;\n",
       "    }\n",
       "\n",
       "    .dataframe thead th {\n",
       "        text-align: right;\n",
       "    }\n",
       "</style>\n",
       "<table border=\"1\" class=\"dataframe\">\n",
       "  <thead>\n",
       "    <tr style=\"text-align: right;\">\n",
       "      <th></th>\n",
       "      <th>World Rank</th>\n",
       "      <th>Year</th>\n",
       "      <th>Institution</th>\n",
       "      <th>Country</th>\n",
       "      <th>National Rank</th>\n",
       "      <th>Quality of Education Rank</th>\n",
       "      <th>Alumni Employment Rank</th>\n",
       "      <th>Quality of Faculty Rank</th>\n",
       "      <th>Research Performance Rank</th>\n",
       "      <th>Score</th>\n",
       "    </tr>\n",
       "  </thead>\n",
       "  <tbody>\n",
       "    <tr>\n",
       "      <th>0</th>\n",
       "      <td>1</td>\n",
       "      <td>2019-2020</td>\n",
       "      <td>Harvard University</td>\n",
       "      <td>USA</td>\n",
       "      <td>1</td>\n",
       "      <td>2.0</td>\n",
       "      <td>1.0</td>\n",
       "      <td>1.0</td>\n",
       "      <td>1.0</td>\n",
       "      <td>100.0</td>\n",
       "    </tr>\n",
       "    <tr>\n",
       "      <th>1</th>\n",
       "      <td>2</td>\n",
       "      <td>2019-2020</td>\n",
       "      <td>Massachusetts Institute of Technology</td>\n",
       "      <td>USA</td>\n",
       "      <td>2</td>\n",
       "      <td>1.0</td>\n",
       "      <td>10.0</td>\n",
       "      <td>2.0</td>\n",
       "      <td>5.0</td>\n",
       "      <td>96.7</td>\n",
       "    </tr>\n",
       "    <tr>\n",
       "      <th>2</th>\n",
       "      <td>3</td>\n",
       "      <td>2019-2020</td>\n",
       "      <td>Stanford University</td>\n",
       "      <td>USA</td>\n",
       "      <td>3</td>\n",
       "      <td>9.0</td>\n",
       "      <td>3.0</td>\n",
       "      <td>3.0</td>\n",
       "      <td>2.0</td>\n",
       "      <td>95.2</td>\n",
       "    </tr>\n",
       "    <tr>\n",
       "      <th>3</th>\n",
       "      <td>4</td>\n",
       "      <td>2019-2020</td>\n",
       "      <td>University of Cambridge</td>\n",
       "      <td>United Kingdom</td>\n",
       "      <td>1</td>\n",
       "      <td>4.0</td>\n",
       "      <td>19.0</td>\n",
       "      <td>5.0</td>\n",
       "      <td>11.0</td>\n",
       "      <td>94.1</td>\n",
       "    </tr>\n",
       "    <tr>\n",
       "      <th>4</th>\n",
       "      <td>5</td>\n",
       "      <td>2019-2020</td>\n",
       "      <td>University of Oxford</td>\n",
       "      <td>United Kingdom</td>\n",
       "      <td>2</td>\n",
       "      <td>10.0</td>\n",
       "      <td>24.0</td>\n",
       "      <td>10.0</td>\n",
       "      <td>4.0</td>\n",
       "      <td>93.3</td>\n",
       "    </tr>\n",
       "  </tbody>\n",
       "</table>\n",
       "</div>"
      ],
      "text/plain": [
       "   World Rank       Year                            Institution  \\\n",
       "0           1  2019-2020                     Harvard University   \n",
       "1           2  2019-2020  Massachusetts Institute of Technology   \n",
       "2           3  2019-2020                    Stanford University   \n",
       "3           4  2019-2020                University of Cambridge   \n",
       "4           5  2019-2020                   University of Oxford   \n",
       "\n",
       "          Country  National Rank  Quality of Education Rank  \\\n",
       "0             USA              1                        2.0   \n",
       "1             USA              2                        1.0   \n",
       "2             USA              3                        9.0   \n",
       "3  United Kingdom              1                        4.0   \n",
       "4  United Kingdom              2                       10.0   \n",
       "\n",
       "   Alumni Employment Rank  Quality of Faculty Rank  Research Performance Rank  \\\n",
       "0                     1.0                      1.0                        1.0   \n",
       "1                    10.0                      2.0                        5.0   \n",
       "2                     3.0                      3.0                        2.0   \n",
       "3                    19.0                      5.0                       11.0   \n",
       "4                    24.0                     10.0                        4.0   \n",
       "\n",
       "   Score  \n",
       "0  100.0  \n",
       "1   96.7  \n",
       "2   95.2  \n",
       "3   94.1  \n",
       "4   93.3  "
      ]
     },
     "execution_count": 49,
     "metadata": {},
     "output_type": "execute_result"
    }
   ],
   "source": [
    "# we have done this one for you\n",
    "\n",
    "rankings = pd.read_json('rankings.json')\n",
    "rankings.head()"
   ]
  },
  {
   "cell_type": "code",
   "execution_count": 50,
   "id": "ed09f03d",
   "metadata": {},
   "outputs": [],
   "source": [
    "# run this cell to test whether 'rankings' has been defined properly\n",
    "\n",
    "assert(type(rankings) == pd.DataFrame)\n",
    "assert(rankings.iloc[0][\"Institution\"] == 'Harvard University')\n",
    "assert(rankings.iloc[1][\"Score\"]== 96.7)"
   ]
  },
  {
   "cell_type": "markdown",
   "id": "9c8470ec",
   "metadata": {},
   "source": [
    "### Task 2.2: Find the unique universities in the dataset\n",
    "\n",
    "As the dataset contains rankings for three different years, the same university may have featured multiple times. Find the names of the unique universities that are represented in the dataset.\n",
    "\n",
    "First, extract just the names of the institutions as a `pandas` **Series**. Then, make a **list** of unique names called `institutions_list`. **Series** can be easily typecast just like any other data type in Python."
   ]
  },
  {
   "cell_type": "code",
   "execution_count": 53,
   "id": "649ab7cf",
   "metadata": {},
   "outputs": [],
   "source": [
    "# TODO: create a pandas `Series` of just the institution names in the dataset. \n",
    "institutions = pd.Series(rankings[\"Institution\"].unique())\n",
    "# TODO: typecast the Series into a set and then into a list, to remove duplicates\n",
    "institutions_list = list(set(institutions))"
   ]
  },
  {
   "cell_type": "code",
   "execution_count": 54,
   "id": "251516a4",
   "metadata": {},
   "outputs": [],
   "source": [
    "# run this cell to test whether 'institutions_list' has been defined properly\n",
    "\n",
    "assert(type(institutions) == pd.Series)\n",
    "assert(len(institutions_list) == 2156)"
   ]
  },
  {
   "cell_type": "markdown",
   "id": "b971679d",
   "metadata": {},
   "source": [
    "### Task 2.3: Use `value_counts` to count instances in a dataframe\n",
    "\n",
    "Now, let's find the country that is the 5th most represented in the dataframe, and the number of times it features. Recall that `value_counts` enables us to count number of occurrences of unique values in a pandas **Series**.\n",
    "\n",
    "#### Task 2.3.1: Obtain the counts for all countries\n",
    "\n",
    "First, use the `value_counts` function on the `Country` column of `rankings`, and then typecast to a pandas **Series** called `country_counts`. This **Series** should contain each country in the dataset and the number of times it occurs.\n",
    "\n",
    "**Hint:** You can review the relevant lecture code [here](https://git.doit.wisc.edu/cdis/cs/courses/cs220/cs220-lecture-material/-/tree/main/f22/meena_lec_notes/lec-27)."
   ]
  },
  {
   "cell_type": "code",
   "execution_count": 60,
   "id": "46df6bf7",
   "metadata": {},
   "outputs": [
    {
     "data": {
      "text/plain": [
       "USA                                 1062\n",
       "China                                793\n",
       "Japan                                380\n",
       "United Kingdom                       284\n",
       "France                               256\n",
       "                                    ... \n",
       "Democratic Republic of the Congo       1\n",
       "Palestine                              1\n",
       "Cuba                                   1\n",
       "Azerbaijan                             1\n",
       "Kazakhstan                             1\n",
       "Name: Country, Length: 103, dtype: int64"
      ]
     },
     "execution_count": 60,
     "metadata": {},
     "output_type": "execute_result"
    }
   ],
   "source": [
    "# compute and store the answer in the variable 'country_counts', and display it\n",
    "country_counts = pd.Series(rankings[\"Country\"].value_counts())\n",
    "country_counts\n",
    "# countries = rankings[\"Country\"]\n",
    "# country_counts = countries.value_counts()\n",
    "# country_counts"
   ]
  },
  {
   "cell_type": "code",
   "execution_count": 61,
   "id": "a032ebfd",
   "metadata": {},
   "outputs": [],
   "source": [
    "# run this cell to test whether 'country_counts' has been defined properly\n",
    "\n",
    "assert(type(country_counts) == pd.Series)\n",
    "assert(country_counts[\"USA\"] == 1062)\n",
    "assert(len(country_counts) == 103)"
   ]
  },
  {
   "cell_type": "markdown",
   "id": "9d6b13f9",
   "metadata": {},
   "source": [
    "Note that in the **Series** `country_counts`, the countries are already **sorted** in *decreasing* order of the number of times they appear in `rankings`."
   ]
  },
  {
   "cell_type": "markdown",
   "id": "e80dea20",
   "metadata": {},
   "source": [
    "#### Task 2.3.2: Find the 5th most represented country\n",
    "\n",
    "Use the `.index` attribute of the **Series** `country_counts` to fetch the name of the 5th most represented country. Note that `country_counts` is **sorted** in *decreasing* order of the number of times each country appears in `rankings`. You **must** use `iloc` to fetch the count of this country. Make sure to use the **Series** `country_counts` defined in Task 2.3.1.\n",
    "\n",
    "**Hint**: The pandas `Series.index` works differently from the `.index` method you are familiar with for **lists**. `Series.index` takes in the numerical **index** of the element you want to access, and returns the **label** you can pass to `.loc` to access it."
   ]
  },
  {
   "cell_type": "code",
   "execution_count": 74,
   "id": "51935d37",
   "metadata": {},
   "outputs": [
    {
     "name": "stdout",
     "output_type": "stream",
     "text": [
      "France\n",
      "256\n"
     ]
    }
   ],
   "source": [
    "# TODO: find the 5th most represented country\n",
    "fifth_country = country_counts.index[4]\n",
    "# TODO: find the count of the 5th most represented country\n",
    "fifth_count = country_counts.iloc[4]\n",
    "\n",
    "print(fifth_country)\n",
    "print(fifth_count)"
   ]
  },
  {
   "cell_type": "code",
   "execution_count": 75,
   "id": "7bb7bbba",
   "metadata": {},
   "outputs": [],
   "source": [
    "# run this cell to test whether 'fifth_country' and 'fifth_count' have been defined properly\n",
    "\n",
    "assert(fifth_country == \"France\")\n",
    "assert(fifth_count == 256)"
   ]
  },
  {
   "cell_type": "markdown",
   "id": "4708406b",
   "metadata": {},
   "source": [
    "### Task 2.4: `loc` vs `iloc`"
   ]
  },
  {
   "cell_type": "markdown",
   "id": "a4448b40",
   "metadata": {},
   "source": [
    "In this lab and project, you **must** only use `iloc`. Using `loc` will be considered **hardcording**. This is because `iloc` selects rows and columns at the given **integer position** while `loc` selects rows at the given **pandas index**. \n",
    "\n",
    "Recall that **row index** can be given meaningful names like string indices. Consider a scenario where you add rows to the beginning of the DataFrame - if you use `.loc` indexing, your answer will become **incorrect** if the data changes. Whereas if you use `.iloc`, you will always get the correct answer.\n",
    "\n",
    "This distinction may not be as intuitive for the current `rankings` **DataFrame**. As an example, use both `loc` and `iloc` to fetch the first row in `rankings`."
   ]
  },
  {
   "cell_type": "code",
   "execution_count": 77,
   "id": "c9481efa",
   "metadata": {},
   "outputs": [
    {
     "data": {
      "text/plain": [
       "World Rank                                    1\n",
       "Year                                  2019-2020\n",
       "Institution                  Harvard University\n",
       "Country                                     USA\n",
       "National Rank                                 1\n",
       "Quality of Education Rank                   2.0\n",
       "Alumni Employment Rank                      1.0\n",
       "Quality of Faculty Rank                     1.0\n",
       "Research Performance Rank                   1.0\n",
       "Score                                     100.0\n",
       "Name: 0, dtype: object"
      ]
     },
     "execution_count": 77,
     "metadata": {},
     "output_type": "execute_result"
    }
   ],
   "source": [
    "# use iloc to extract the first row from 'rankings'\n",
    "\n",
    "first_row_iloc = rankings.iloc[0]\n",
    "first_row_iloc"
   ]
  },
  {
   "cell_type": "code",
   "execution_count": 79,
   "id": "2d16458e",
   "metadata": {},
   "outputs": [
    {
     "data": {
      "text/plain": [
       "World Rank                                    1\n",
       "Year                                  2019-2020\n",
       "Institution                  Harvard University\n",
       "Country                                     USA\n",
       "National Rank                                 1\n",
       "Quality of Education Rank                   2.0\n",
       "Alumni Employment Rank                      1.0\n",
       "Quality of Faculty Rank                     1.0\n",
       "Research Performance Rank                   1.0\n",
       "Score                                     100.0\n",
       "Name: 0, dtype: object"
      ]
     },
     "execution_count": 79,
     "metadata": {},
     "output_type": "execute_result"
    }
   ],
   "source": [
    "# use loc to extract the first row from 'rankings'\n",
    "\n",
    "first_row_loc = rankings.loc[0]\n",
    "first_row_loc"
   ]
  },
  {
   "cell_type": "markdown",
   "id": "409581bb",
   "metadata": {},
   "source": [
    "The results are exactly the same! This happens since the integer positions correspond to the pandas indices in the `rankings` dataframe. However, this will not always hold true - as we see in the next task."
   ]
  },
  {
   "cell_type": "markdown",
   "id": "0625ab34",
   "metadata": {},
   "source": [
    "### Task 2.5: Use boolean indexing to filter data"
   ]
  },
  {
   "cell_type": "markdown",
   "id": "73fc0f85",
   "metadata": {},
   "source": [
    "Now, use **boolean indexing** to extract data from the **DataFrame**. You can find the relevant lecture code [here](https://git.doit.wisc.edu/cdis/cs/courses/cs220/cs220-lecture-material/-/tree/main/f22/meena_lec_notes/lec-28).\n",
    "\n",
    "Create a **DataFrame** `rankings_arg_bra` that **only** consists of rankings of universities from *Argentina* and *Brazil*. \n",
    "\n",
    "**Hints**:When implementing **boolean indexing** in `pandas`, the `or` operator is represented by `|` and the `and` operator is represented by `&`."
   ]
  },
  {
   "cell_type": "code",
   "execution_count": 86,
   "id": "08166b72",
   "metadata": {},
   "outputs": [
    {
     "data": {
      "text/html": [
       "<div>\n",
       "<style scoped>\n",
       "    .dataframe tbody tr th:only-of-type {\n",
       "        vertical-align: middle;\n",
       "    }\n",
       "\n",
       "    .dataframe tbody tr th {\n",
       "        vertical-align: top;\n",
       "    }\n",
       "\n",
       "    .dataframe thead th {\n",
       "        text-align: right;\n",
       "    }\n",
       "</style>\n",
       "<table border=\"1\" class=\"dataframe\">\n",
       "  <thead>\n",
       "    <tr style=\"text-align: right;\">\n",
       "      <th></th>\n",
       "      <th>World Rank</th>\n",
       "      <th>Year</th>\n",
       "      <th>Institution</th>\n",
       "      <th>Country</th>\n",
       "      <th>National Rank</th>\n",
       "      <th>Quality of Education Rank</th>\n",
       "      <th>Alumni Employment Rank</th>\n",
       "      <th>Quality of Faculty Rank</th>\n",
       "      <th>Research Performance Rank</th>\n",
       "      <th>Score</th>\n",
       "    </tr>\n",
       "  </thead>\n",
       "  <tbody>\n",
       "    <tr>\n",
       "      <th>127</th>\n",
       "      <td>128</td>\n",
       "      <td>2019-2020</td>\n",
       "      <td>University of São Paulo</td>\n",
       "      <td>Brazil</td>\n",
       "      <td>1</td>\n",
       "      <td>457.0</td>\n",
       "      <td>264.0</td>\n",
       "      <td>219.0</td>\n",
       "      <td>89.0</td>\n",
       "      <td>80.7</td>\n",
       "    </tr>\n",
       "    <tr>\n",
       "      <th>343</th>\n",
       "      <td>344</td>\n",
       "      <td>2019-2020</td>\n",
       "      <td>University of Buenos Aires</td>\n",
       "      <td>Argentina</td>\n",
       "      <td>1</td>\n",
       "      <td>238.0</td>\n",
       "      <td>1222.0</td>\n",
       "      <td>NaN</td>\n",
       "      <td>320.0</td>\n",
       "      <td>76.1</td>\n",
       "    </tr>\n",
       "    <tr>\n",
       "      <th>348</th>\n",
       "      <td>349</td>\n",
       "      <td>2019-2020</td>\n",
       "      <td>Federal University of Rio de Janeiro</td>\n",
       "      <td>Brazil</td>\n",
       "      <td>2</td>\n",
       "      <td>378.0</td>\n",
       "      <td>408.0</td>\n",
       "      <td>NaN</td>\n",
       "      <td>335.0</td>\n",
       "      <td>76.0</td>\n",
       "    </tr>\n",
       "    <tr>\n",
       "      <th>352</th>\n",
       "      <td>353</td>\n",
       "      <td>2019-2020</td>\n",
       "      <td>University of Campinas</td>\n",
       "      <td>Brazil</td>\n",
       "      <td>3</td>\n",
       "      <td>NaN</td>\n",
       "      <td>NaN</td>\n",
       "      <td>NaN</td>\n",
       "      <td>324.0</td>\n",
       "      <td>76.0</td>\n",
       "    </tr>\n",
       "    <tr>\n",
       "      <th>443</th>\n",
       "      <td>444</td>\n",
       "      <td>2019-2020</td>\n",
       "      <td>São Paulo State University</td>\n",
       "      <td>Brazil</td>\n",
       "      <td>4</td>\n",
       "      <td>NaN</td>\n",
       "      <td>NaN</td>\n",
       "      <td>NaN</td>\n",
       "      <td>416.0</td>\n",
       "      <td>74.8</td>\n",
       "    </tr>\n",
       "    <tr>\n",
       "      <th>...</th>\n",
       "      <td>...</td>\n",
       "      <td>...</td>\n",
       "      <td>...</td>\n",
       "      <td>...</td>\n",
       "      <td>...</td>\n",
       "      <td>...</td>\n",
       "      <td>...</td>\n",
       "      <td>...</td>\n",
       "      <td>...</td>\n",
       "      <td>...</td>\n",
       "    </tr>\n",
       "    <tr>\n",
       "      <th>5870</th>\n",
       "      <td>1871</td>\n",
       "      <td>2021-2022</td>\n",
       "      <td>Federal Rural University of Rio de Janeiro</td>\n",
       "      <td>Brazil</td>\n",
       "      <td>53</td>\n",
       "      <td>NaN</td>\n",
       "      <td>NaN</td>\n",
       "      <td>NaN</td>\n",
       "      <td>1793.0</td>\n",
       "      <td>66.2</td>\n",
       "    </tr>\n",
       "    <tr>\n",
       "      <th>5908</th>\n",
       "      <td>1909</td>\n",
       "      <td>2021-2022</td>\n",
       "      <td>Federal University of Piauí</td>\n",
       "      <td>Brazil</td>\n",
       "      <td>54</td>\n",
       "      <td>NaN</td>\n",
       "      <td>NaN</td>\n",
       "      <td>NaN</td>\n",
       "      <td>1834.0</td>\n",
       "      <td>66.1</td>\n",
       "    </tr>\n",
       "    <tr>\n",
       "      <th>5944</th>\n",
       "      <td>1945</td>\n",
       "      <td>2021-2022</td>\n",
       "      <td>Federal University of Amazonas</td>\n",
       "      <td>Brazil</td>\n",
       "      <td>55</td>\n",
       "      <td>NaN</td>\n",
       "      <td>NaN</td>\n",
       "      <td>NaN</td>\n",
       "      <td>1870.0</td>\n",
       "      <td>65.9</td>\n",
       "    </tr>\n",
       "    <tr>\n",
       "      <th>5975</th>\n",
       "      <td>1976</td>\n",
       "      <td>2021-2022</td>\n",
       "      <td>National University of Tucumán</td>\n",
       "      <td>Argentina</td>\n",
       "      <td>10</td>\n",
       "      <td>NaN</td>\n",
       "      <td>NaN</td>\n",
       "      <td>NaN</td>\n",
       "      <td>1901.0</td>\n",
       "      <td>65.8</td>\n",
       "    </tr>\n",
       "    <tr>\n",
       "      <th>5995</th>\n",
       "      <td>1996</td>\n",
       "      <td>2021-2022</td>\n",
       "      <td>Santa Catarina State University</td>\n",
       "      <td>Brazil</td>\n",
       "      <td>56</td>\n",
       "      <td>NaN</td>\n",
       "      <td>936.0</td>\n",
       "      <td>NaN</td>\n",
       "      <td>1938.0</td>\n",
       "      <td>65.8</td>\n",
       "    </tr>\n",
       "  </tbody>\n",
       "</table>\n",
       "<p>196 rows × 10 columns</p>\n",
       "</div>"
      ],
      "text/plain": [
       "      World Rank       Year                                 Institution  \\\n",
       "127          128  2019-2020                     University of São Paulo   \n",
       "343          344  2019-2020                  University of Buenos Aires   \n",
       "348          349  2019-2020        Federal University of Rio de Janeiro   \n",
       "352          353  2019-2020                      University of Campinas   \n",
       "443          444  2019-2020                  São Paulo State University   \n",
       "...          ...        ...                                         ...   \n",
       "5870        1871  2021-2022  Federal Rural University of Rio de Janeiro   \n",
       "5908        1909  2021-2022                 Federal University of Piauí   \n",
       "5944        1945  2021-2022              Federal University of Amazonas   \n",
       "5975        1976  2021-2022              National University of Tucumán   \n",
       "5995        1996  2021-2022             Santa Catarina State University   \n",
       "\n",
       "        Country  National Rank  Quality of Education Rank  \\\n",
       "127      Brazil              1                      457.0   \n",
       "343   Argentina              1                      238.0   \n",
       "348      Brazil              2                      378.0   \n",
       "352      Brazil              3                        NaN   \n",
       "443      Brazil              4                        NaN   \n",
       "...         ...            ...                        ...   \n",
       "5870     Brazil             53                        NaN   \n",
       "5908     Brazil             54                        NaN   \n",
       "5944     Brazil             55                        NaN   \n",
       "5975  Argentina             10                        NaN   \n",
       "5995     Brazil             56                        NaN   \n",
       "\n",
       "      Alumni Employment Rank  Quality of Faculty Rank  \\\n",
       "127                    264.0                    219.0   \n",
       "343                   1222.0                      NaN   \n",
       "348                    408.0                      NaN   \n",
       "352                      NaN                      NaN   \n",
       "443                      NaN                      NaN   \n",
       "...                      ...                      ...   \n",
       "5870                     NaN                      NaN   \n",
       "5908                     NaN                      NaN   \n",
       "5944                     NaN                      NaN   \n",
       "5975                     NaN                      NaN   \n",
       "5995                   936.0                      NaN   \n",
       "\n",
       "      Research Performance Rank  Score  \n",
       "127                        89.0   80.7  \n",
       "343                       320.0   76.1  \n",
       "348                       335.0   76.0  \n",
       "352                       324.0   76.0  \n",
       "443                       416.0   74.8  \n",
       "...                         ...    ...  \n",
       "5870                     1793.0   66.2  \n",
       "5908                     1834.0   66.1  \n",
       "5944                     1870.0   65.9  \n",
       "5975                     1901.0   65.8  \n",
       "5995                     1938.0   65.8  \n",
       "\n",
       "[196 rows x 10 columns]"
      ]
     },
     "execution_count": 86,
     "metadata": {},
     "output_type": "execute_result"
    }
   ],
   "source": [
    "# compute and store the answer in the variable 'rankings_arg_bra', then display it\n",
    "rankings_arg_bra = rankings[(rankings[\"Country\"] == \"Argentina\") | (rankings[\"Country\"] == \"Brazil\")]\n",
    "rankings_arg_bra"
   ]
  },
  {
   "cell_type": "markdown",
   "id": "50ea4838",
   "metadata": {},
   "source": [
    "Now, we will try to extract the **first** value in this new **DataFrame** using `iloc` and `loc`. As you'll see, using `loc` will not work the same way it did before. In fact, it will throw an **error**. To verify, run the two cells below:"
   ]
  },
  {
   "cell_type": "code",
   "execution_count": 87,
   "id": "dfab6e71",
   "metadata": {},
   "outputs": [
    {
     "data": {
      "text/plain": [
       "World Rank                                       128\n",
       "Year                                       2019-2020\n",
       "Institution                  University of São Paulo\n",
       "Country                                       Brazil\n",
       "National Rank                                      1\n",
       "Quality of Education Rank                      457.0\n",
       "Alumni Employment Rank                         264.0\n",
       "Quality of Faculty Rank                        219.0\n",
       "Research Performance Rank                       89.0\n",
       "Score                                           80.7\n",
       "Name: 127, dtype: object"
      ]
     },
     "execution_count": 87,
     "metadata": {},
     "output_type": "execute_result"
    }
   ],
   "source": [
    "first_row_iloc = rankings_arg_bra.iloc[0]\n",
    "first_row_iloc"
   ]
  },
  {
   "cell_type": "code",
   "execution_count": 88,
   "id": "39cfbc55",
   "metadata": {},
   "outputs": [
    {
     "ename": "KeyError",
     "evalue": "0",
     "output_type": "error",
     "traceback": [
      "\u001b[0;31m---------------------------------------------------------------------------\u001b[0m",
      "\u001b[0;31mKeyError\u001b[0m                                  Traceback (most recent call last)",
      "File \u001b[0;32m~/opt/anaconda3/lib/python3.9/site-packages/pandas/core/indexes/base.py:3621\u001b[0m, in \u001b[0;36mIndex.get_loc\u001b[0;34m(self, key, method, tolerance)\u001b[0m\n\u001b[1;32m   3620\u001b[0m \u001b[38;5;28;01mtry\u001b[39;00m:\n\u001b[0;32m-> 3621\u001b[0m     \u001b[38;5;28;01mreturn\u001b[39;00m \u001b[38;5;28;43mself\u001b[39;49m\u001b[38;5;241;43m.\u001b[39;49m\u001b[43m_engine\u001b[49m\u001b[38;5;241;43m.\u001b[39;49m\u001b[43mget_loc\u001b[49m\u001b[43m(\u001b[49m\u001b[43mcasted_key\u001b[49m\u001b[43m)\u001b[49m\n\u001b[1;32m   3622\u001b[0m \u001b[38;5;28;01mexcept\u001b[39;00m \u001b[38;5;167;01mKeyError\u001b[39;00m \u001b[38;5;28;01mas\u001b[39;00m err:\n",
      "File \u001b[0;32m~/opt/anaconda3/lib/python3.9/site-packages/pandas/_libs/index.pyx:136\u001b[0m, in \u001b[0;36mpandas._libs.index.IndexEngine.get_loc\u001b[0;34m()\u001b[0m\n",
      "File \u001b[0;32m~/opt/anaconda3/lib/python3.9/site-packages/pandas/_libs/index.pyx:163\u001b[0m, in \u001b[0;36mpandas._libs.index.IndexEngine.get_loc\u001b[0;34m()\u001b[0m\n",
      "File \u001b[0;32mpandas/_libs/hashtable_class_helper.pxi:2131\u001b[0m, in \u001b[0;36mpandas._libs.hashtable.Int64HashTable.get_item\u001b[0;34m()\u001b[0m\n",
      "File \u001b[0;32mpandas/_libs/hashtable_class_helper.pxi:2140\u001b[0m, in \u001b[0;36mpandas._libs.hashtable.Int64HashTable.get_item\u001b[0;34m()\u001b[0m\n",
      "\u001b[0;31mKeyError\u001b[0m: 0",
      "\nThe above exception was the direct cause of the following exception:\n",
      "\u001b[0;31mKeyError\u001b[0m                                  Traceback (most recent call last)",
      "Input \u001b[0;32mIn [88]\u001b[0m, in \u001b[0;36m<cell line: 1>\u001b[0;34m()\u001b[0m\n\u001b[0;32m----> 1\u001b[0m first_row_loc \u001b[38;5;241m=\u001b[39m \u001b[43mrankings_arg_bra\u001b[49m\u001b[38;5;241;43m.\u001b[39;49m\u001b[43mloc\u001b[49m\u001b[43m[\u001b[49m\u001b[38;5;241;43m0\u001b[39;49m\u001b[43m]\u001b[49m\n\u001b[1;32m      2\u001b[0m first_row_loc\n",
      "File \u001b[0;32m~/opt/anaconda3/lib/python3.9/site-packages/pandas/core/indexing.py:967\u001b[0m, in \u001b[0;36m_LocationIndexer.__getitem__\u001b[0;34m(self, key)\u001b[0m\n\u001b[1;32m    964\u001b[0m axis \u001b[38;5;241m=\u001b[39m \u001b[38;5;28mself\u001b[39m\u001b[38;5;241m.\u001b[39maxis \u001b[38;5;129;01mor\u001b[39;00m \u001b[38;5;241m0\u001b[39m\n\u001b[1;32m    966\u001b[0m maybe_callable \u001b[38;5;241m=\u001b[39m com\u001b[38;5;241m.\u001b[39mapply_if_callable(key, \u001b[38;5;28mself\u001b[39m\u001b[38;5;241m.\u001b[39mobj)\n\u001b[0;32m--> 967\u001b[0m \u001b[38;5;28;01mreturn\u001b[39;00m \u001b[38;5;28;43mself\u001b[39;49m\u001b[38;5;241;43m.\u001b[39;49m\u001b[43m_getitem_axis\u001b[49m\u001b[43m(\u001b[49m\u001b[43mmaybe_callable\u001b[49m\u001b[43m,\u001b[49m\u001b[43m \u001b[49m\u001b[43maxis\u001b[49m\u001b[38;5;241;43m=\u001b[39;49m\u001b[43maxis\u001b[49m\u001b[43m)\u001b[49m\n",
      "File \u001b[0;32m~/opt/anaconda3/lib/python3.9/site-packages/pandas/core/indexing.py:1202\u001b[0m, in \u001b[0;36m_LocIndexer._getitem_axis\u001b[0;34m(self, key, axis)\u001b[0m\n\u001b[1;32m   1200\u001b[0m \u001b[38;5;66;03m# fall thru to straight lookup\u001b[39;00m\n\u001b[1;32m   1201\u001b[0m \u001b[38;5;28mself\u001b[39m\u001b[38;5;241m.\u001b[39m_validate_key(key, axis)\n\u001b[0;32m-> 1202\u001b[0m \u001b[38;5;28;01mreturn\u001b[39;00m \u001b[38;5;28;43mself\u001b[39;49m\u001b[38;5;241;43m.\u001b[39;49m\u001b[43m_get_label\u001b[49m\u001b[43m(\u001b[49m\u001b[43mkey\u001b[49m\u001b[43m,\u001b[49m\u001b[43m \u001b[49m\u001b[43maxis\u001b[49m\u001b[38;5;241;43m=\u001b[39;49m\u001b[43maxis\u001b[49m\u001b[43m)\u001b[49m\n",
      "File \u001b[0;32m~/opt/anaconda3/lib/python3.9/site-packages/pandas/core/indexing.py:1153\u001b[0m, in \u001b[0;36m_LocIndexer._get_label\u001b[0;34m(self, label, axis)\u001b[0m\n\u001b[1;32m   1151\u001b[0m \u001b[38;5;28;01mdef\u001b[39;00m \u001b[38;5;21m_get_label\u001b[39m(\u001b[38;5;28mself\u001b[39m, label, axis: \u001b[38;5;28mint\u001b[39m):\n\u001b[1;32m   1152\u001b[0m     \u001b[38;5;66;03m# GH#5667 this will fail if the label is not present in the axis.\u001b[39;00m\n\u001b[0;32m-> 1153\u001b[0m     \u001b[38;5;28;01mreturn\u001b[39;00m \u001b[38;5;28;43mself\u001b[39;49m\u001b[38;5;241;43m.\u001b[39;49m\u001b[43mobj\u001b[49m\u001b[38;5;241;43m.\u001b[39;49m\u001b[43mxs\u001b[49m\u001b[43m(\u001b[49m\u001b[43mlabel\u001b[49m\u001b[43m,\u001b[49m\u001b[43m \u001b[49m\u001b[43maxis\u001b[49m\u001b[38;5;241;43m=\u001b[39;49m\u001b[43maxis\u001b[49m\u001b[43m)\u001b[49m\n",
      "File \u001b[0;32m~/opt/anaconda3/lib/python3.9/site-packages/pandas/core/generic.py:3864\u001b[0m, in \u001b[0;36mNDFrame.xs\u001b[0;34m(self, key, axis, level, drop_level)\u001b[0m\n\u001b[1;32m   3862\u001b[0m             new_index \u001b[38;5;241m=\u001b[39m index[loc]\n\u001b[1;32m   3863\u001b[0m \u001b[38;5;28;01melse\u001b[39;00m:\n\u001b[0;32m-> 3864\u001b[0m     loc \u001b[38;5;241m=\u001b[39m \u001b[43mindex\u001b[49m\u001b[38;5;241;43m.\u001b[39;49m\u001b[43mget_loc\u001b[49m\u001b[43m(\u001b[49m\u001b[43mkey\u001b[49m\u001b[43m)\u001b[49m\n\u001b[1;32m   3866\u001b[0m     \u001b[38;5;28;01mif\u001b[39;00m \u001b[38;5;28misinstance\u001b[39m(loc, np\u001b[38;5;241m.\u001b[39mndarray):\n\u001b[1;32m   3867\u001b[0m         \u001b[38;5;28;01mif\u001b[39;00m loc\u001b[38;5;241m.\u001b[39mdtype \u001b[38;5;241m==\u001b[39m np\u001b[38;5;241m.\u001b[39mbool_:\n",
      "File \u001b[0;32m~/opt/anaconda3/lib/python3.9/site-packages/pandas/core/indexes/base.py:3623\u001b[0m, in \u001b[0;36mIndex.get_loc\u001b[0;34m(self, key, method, tolerance)\u001b[0m\n\u001b[1;32m   3621\u001b[0m     \u001b[38;5;28;01mreturn\u001b[39;00m \u001b[38;5;28mself\u001b[39m\u001b[38;5;241m.\u001b[39m_engine\u001b[38;5;241m.\u001b[39mget_loc(casted_key)\n\u001b[1;32m   3622\u001b[0m \u001b[38;5;28;01mexcept\u001b[39;00m \u001b[38;5;167;01mKeyError\u001b[39;00m \u001b[38;5;28;01mas\u001b[39;00m err:\n\u001b[0;32m-> 3623\u001b[0m     \u001b[38;5;28;01mraise\u001b[39;00m \u001b[38;5;167;01mKeyError\u001b[39;00m(key) \u001b[38;5;28;01mfrom\u001b[39;00m \u001b[38;5;21;01merr\u001b[39;00m\n\u001b[1;32m   3624\u001b[0m \u001b[38;5;28;01mexcept\u001b[39;00m \u001b[38;5;167;01mTypeError\u001b[39;00m:\n\u001b[1;32m   3625\u001b[0m     \u001b[38;5;66;03m# If we have a listlike key, _check_indexing_error will raise\u001b[39;00m\n\u001b[1;32m   3626\u001b[0m     \u001b[38;5;66;03m#  InvalidIndexError. Otherwise we fall through and re-raise\u001b[39;00m\n\u001b[1;32m   3627\u001b[0m     \u001b[38;5;66;03m#  the TypeError.\u001b[39;00m\n\u001b[1;32m   3628\u001b[0m     \u001b[38;5;28mself\u001b[39m\u001b[38;5;241m.\u001b[39m_check_indexing_error(key)\n",
      "\u001b[0;31mKeyError\u001b[0m: 0"
     ]
    }
   ],
   "source": [
    "first_row_loc = rankings_arg_bra.loc[0]\n",
    "first_row_loc"
   ]
  },
  {
   "cell_type": "markdown",
   "id": "811dd8ef",
   "metadata": {},
   "source": [
    "We see that using `.loc` now causes a **KeyError**.\n",
    "\n",
    "`.loc[0]` tries to find the row with the *labeled* **index** 0. Run the cell below and notice how `rankings_arg_bra` starts at the labeled **index** 127. There is no 0. Hence the **KeyError**."
   ]
  },
  {
   "cell_type": "code",
   "execution_count": 89,
   "id": "d9f26433",
   "metadata": {},
   "outputs": [
    {
     "data": {
      "text/html": [
       "<div>\n",
       "<style scoped>\n",
       "    .dataframe tbody tr th:only-of-type {\n",
       "        vertical-align: middle;\n",
       "    }\n",
       "\n",
       "    .dataframe tbody tr th {\n",
       "        vertical-align: top;\n",
       "    }\n",
       "\n",
       "    .dataframe thead th {\n",
       "        text-align: right;\n",
       "    }\n",
       "</style>\n",
       "<table border=\"1\" class=\"dataframe\">\n",
       "  <thead>\n",
       "    <tr style=\"text-align: right;\">\n",
       "      <th></th>\n",
       "      <th>World Rank</th>\n",
       "      <th>Year</th>\n",
       "      <th>Institution</th>\n",
       "      <th>Country</th>\n",
       "      <th>National Rank</th>\n",
       "      <th>Quality of Education Rank</th>\n",
       "      <th>Alumni Employment Rank</th>\n",
       "      <th>Quality of Faculty Rank</th>\n",
       "      <th>Research Performance Rank</th>\n",
       "      <th>Score</th>\n",
       "    </tr>\n",
       "  </thead>\n",
       "  <tbody>\n",
       "    <tr>\n",
       "      <th>127</th>\n",
       "      <td>128</td>\n",
       "      <td>2019-2020</td>\n",
       "      <td>University of São Paulo</td>\n",
       "      <td>Brazil</td>\n",
       "      <td>1</td>\n",
       "      <td>457.0</td>\n",
       "      <td>264.0</td>\n",
       "      <td>219.0</td>\n",
       "      <td>89.0</td>\n",
       "      <td>80.7</td>\n",
       "    </tr>\n",
       "    <tr>\n",
       "      <th>343</th>\n",
       "      <td>344</td>\n",
       "      <td>2019-2020</td>\n",
       "      <td>University of Buenos Aires</td>\n",
       "      <td>Argentina</td>\n",
       "      <td>1</td>\n",
       "      <td>238.0</td>\n",
       "      <td>1222.0</td>\n",
       "      <td>NaN</td>\n",
       "      <td>320.0</td>\n",
       "      <td>76.1</td>\n",
       "    </tr>\n",
       "    <tr>\n",
       "      <th>348</th>\n",
       "      <td>349</td>\n",
       "      <td>2019-2020</td>\n",
       "      <td>Federal University of Rio de Janeiro</td>\n",
       "      <td>Brazil</td>\n",
       "      <td>2</td>\n",
       "      <td>378.0</td>\n",
       "      <td>408.0</td>\n",
       "      <td>NaN</td>\n",
       "      <td>335.0</td>\n",
       "      <td>76.0</td>\n",
       "    </tr>\n",
       "    <tr>\n",
       "      <th>352</th>\n",
       "      <td>353</td>\n",
       "      <td>2019-2020</td>\n",
       "      <td>University of Campinas</td>\n",
       "      <td>Brazil</td>\n",
       "      <td>3</td>\n",
       "      <td>NaN</td>\n",
       "      <td>NaN</td>\n",
       "      <td>NaN</td>\n",
       "      <td>324.0</td>\n",
       "      <td>76.0</td>\n",
       "    </tr>\n",
       "    <tr>\n",
       "      <th>443</th>\n",
       "      <td>444</td>\n",
       "      <td>2019-2020</td>\n",
       "      <td>São Paulo State University</td>\n",
       "      <td>Brazil</td>\n",
       "      <td>4</td>\n",
       "      <td>NaN</td>\n",
       "      <td>NaN</td>\n",
       "      <td>NaN</td>\n",
       "      <td>416.0</td>\n",
       "      <td>74.8</td>\n",
       "    </tr>\n",
       "  </tbody>\n",
       "</table>\n",
       "</div>"
      ],
      "text/plain": [
       "     World Rank       Year                           Institution    Country  \\\n",
       "127         128  2019-2020               University of São Paulo     Brazil   \n",
       "343         344  2019-2020            University of Buenos Aires  Argentina   \n",
       "348         349  2019-2020  Federal University of Rio de Janeiro     Brazil   \n",
       "352         353  2019-2020                University of Campinas     Brazil   \n",
       "443         444  2019-2020            São Paulo State University     Brazil   \n",
       "\n",
       "     National Rank  Quality of Education Rank  Alumni Employment Rank  \\\n",
       "127              1                      457.0                   264.0   \n",
       "343              1                      238.0                  1222.0   \n",
       "348              2                      378.0                   408.0   \n",
       "352              3                        NaN                     NaN   \n",
       "443              4                        NaN                     NaN   \n",
       "\n",
       "     Quality of Faculty Rank  Research Performance Rank  Score  \n",
       "127                    219.0                       89.0   80.7  \n",
       "343                      NaN                      320.0   76.1  \n",
       "348                      NaN                      335.0   76.0  \n",
       "352                      NaN                      324.0   76.0  \n",
       "443                      NaN                      416.0   74.8  "
      ]
     },
     "execution_count": 89,
     "metadata": {},
     "output_type": "execute_result"
    }
   ],
   "source": [
    "rankings_arg_bra.head()"
   ]
  },
  {
   "cell_type": "markdown",
   "id": "292f2828",
   "metadata": {},
   "source": [
    "### Task 2.6: Sort the DataFrame"
   ]
  },
  {
   "cell_type": "markdown",
   "id": "96eeaaeb",
   "metadata": {},
   "source": [
    "The **DataFrame** in Task 2.5 is sorted by `World Rank`, with the result that universities from *Argentina* and *Brazil* are interleaved throughout the data. **Re-sort** the data to sort by `Country` so that all universities from *Argentina* appear **first** followed by universities from *Brazil*. Within each country, the universities should be **sorted** by their `National Rank`. \n",
    "\n",
    "Use the `sort_values` function of `pandas`. You can find the relevant lecture code [here](https://git.doit.wisc.edu/cdis/cs/courses/cs220/cs220-lecture-material/-/tree/main/f22/meena_lec_notes/lec-28). Remember - by default, `pandas` returns a **new** sorted **DataFrame** and does **not** modify the existing one.\n",
    "\n",
    "Recall that `sort_values` takes an argument for the parameter `by` as the column name, based on which you want to do the sorting. If you want to use one column for primary sorting and another for secondary sorting, you can specify a **list** of column names."
   ]
  },
  {
   "cell_type": "code",
   "execution_count": 93,
   "id": "9bc78818",
   "metadata": {},
   "outputs": [
    {
     "data": {
      "text/html": [
       "<div>\n",
       "<style scoped>\n",
       "    .dataframe tbody tr th:only-of-type {\n",
       "        vertical-align: middle;\n",
       "    }\n",
       "\n",
       "    .dataframe tbody tr th {\n",
       "        vertical-align: top;\n",
       "    }\n",
       "\n",
       "    .dataframe thead th {\n",
       "        text-align: right;\n",
       "    }\n",
       "</style>\n",
       "<table border=\"1\" class=\"dataframe\">\n",
       "  <thead>\n",
       "    <tr style=\"text-align: right;\">\n",
       "      <th></th>\n",
       "      <th>World Rank</th>\n",
       "      <th>Year</th>\n",
       "      <th>Institution</th>\n",
       "      <th>Country</th>\n",
       "      <th>National Rank</th>\n",
       "      <th>Quality of Education Rank</th>\n",
       "      <th>Alumni Employment Rank</th>\n",
       "      <th>Quality of Faculty Rank</th>\n",
       "      <th>Research Performance Rank</th>\n",
       "      <th>Score</th>\n",
       "    </tr>\n",
       "  </thead>\n",
       "  <tbody>\n",
       "    <tr>\n",
       "      <th>343</th>\n",
       "      <td>344</td>\n",
       "      <td>2019-2020</td>\n",
       "      <td>University of Buenos Aires</td>\n",
       "      <td>Argentina</td>\n",
       "      <td>1</td>\n",
       "      <td>238.0</td>\n",
       "      <td>1222.0</td>\n",
       "      <td>NaN</td>\n",
       "      <td>320.0</td>\n",
       "      <td>76.1</td>\n",
       "    </tr>\n",
       "    <tr>\n",
       "      <th>2353</th>\n",
       "      <td>354</td>\n",
       "      <td>2020-2021</td>\n",
       "      <td>University of Buenos Aires</td>\n",
       "      <td>Argentina</td>\n",
       "      <td>1</td>\n",
       "      <td>327.0</td>\n",
       "      <td>1281.0</td>\n",
       "      <td>NaN</td>\n",
       "      <td>321.0</td>\n",
       "      <td>75.9</td>\n",
       "    </tr>\n",
       "    <tr>\n",
       "      <th>4355</th>\n",
       "      <td>356</td>\n",
       "      <td>2021-2022</td>\n",
       "      <td>University of Buenos Aires</td>\n",
       "      <td>Argentina</td>\n",
       "      <td>1</td>\n",
       "      <td>319.0</td>\n",
       "      <td>1347.0</td>\n",
       "      <td>NaN</td>\n",
       "      <td>324.0</td>\n",
       "      <td>75.9</td>\n",
       "    </tr>\n",
       "    <tr>\n",
       "      <th>595</th>\n",
       "      <td>596</td>\n",
       "      <td>2019-2020</td>\n",
       "      <td>National University of La Plata</td>\n",
       "      <td>Argentina</td>\n",
       "      <td>2</td>\n",
       "      <td>495.0</td>\n",
       "      <td>1337.0</td>\n",
       "      <td>NaN</td>\n",
       "      <td>557.0</td>\n",
       "      <td>73.2</td>\n",
       "    </tr>\n",
       "    <tr>\n",
       "      <th>2618</th>\n",
       "      <td>619</td>\n",
       "      <td>2020-2021</td>\n",
       "      <td>National University of La Plata</td>\n",
       "      <td>Argentina</td>\n",
       "      <td>2</td>\n",
       "      <td>NaN</td>\n",
       "      <td>1404.0</td>\n",
       "      <td>NaN</td>\n",
       "      <td>583.0</td>\n",
       "      <td>73.0</td>\n",
       "    </tr>\n",
       "    <tr>\n",
       "      <th>...</th>\n",
       "      <td>...</td>\n",
       "      <td>...</td>\n",
       "      <td>...</td>\n",
       "      <td>...</td>\n",
       "      <td>...</td>\n",
       "      <td>...</td>\n",
       "      <td>...</td>\n",
       "      <td>...</td>\n",
       "      <td>...</td>\n",
       "      <td>...</td>\n",
       "    </tr>\n",
       "    <tr>\n",
       "      <th>3947</th>\n",
       "      <td>1948</td>\n",
       "      <td>2020-2021</td>\n",
       "      <td>Federal University of Amazonas</td>\n",
       "      <td>Brazil</td>\n",
       "      <td>55</td>\n",
       "      <td>NaN</td>\n",
       "      <td>NaN</td>\n",
       "      <td>NaN</td>\n",
       "      <td>1870.0</td>\n",
       "      <td>66.0</td>\n",
       "    </tr>\n",
       "    <tr>\n",
       "      <th>5944</th>\n",
       "      <td>1945</td>\n",
       "      <td>2021-2022</td>\n",
       "      <td>Federal University of Amazonas</td>\n",
       "      <td>Brazil</td>\n",
       "      <td>55</td>\n",
       "      <td>NaN</td>\n",
       "      <td>NaN</td>\n",
       "      <td>NaN</td>\n",
       "      <td>1870.0</td>\n",
       "      <td>65.9</td>\n",
       "    </tr>\n",
       "    <tr>\n",
       "      <th>3991</th>\n",
       "      <td>1992</td>\n",
       "      <td>2020-2021</td>\n",
       "      <td>Santa Catarina State University</td>\n",
       "      <td>Brazil</td>\n",
       "      <td>56</td>\n",
       "      <td>NaN</td>\n",
       "      <td>1019.0</td>\n",
       "      <td>NaN</td>\n",
       "      <td>1916.0</td>\n",
       "      <td>65.8</td>\n",
       "    </tr>\n",
       "    <tr>\n",
       "      <th>5995</th>\n",
       "      <td>1996</td>\n",
       "      <td>2021-2022</td>\n",
       "      <td>Santa Catarina State University</td>\n",
       "      <td>Brazil</td>\n",
       "      <td>56</td>\n",
       "      <td>NaN</td>\n",
       "      <td>936.0</td>\n",
       "      <td>NaN</td>\n",
       "      <td>1938.0</td>\n",
       "      <td>65.8</td>\n",
       "    </tr>\n",
       "    <tr>\n",
       "      <th>3996</th>\n",
       "      <td>1997</td>\n",
       "      <td>2020-2021</td>\n",
       "      <td>Federal University of Maranhão</td>\n",
       "      <td>Brazil</td>\n",
       "      <td>57</td>\n",
       "      <td>NaN</td>\n",
       "      <td>NaN</td>\n",
       "      <td>NaN</td>\n",
       "      <td>1918.0</td>\n",
       "      <td>65.8</td>\n",
       "    </tr>\n",
       "  </tbody>\n",
       "</table>\n",
       "<p>196 rows × 10 columns</p>\n",
       "</div>"
      ],
      "text/plain": [
       "      World Rank       Year                      Institution    Country  \\\n",
       "343          344  2019-2020       University of Buenos Aires  Argentina   \n",
       "2353         354  2020-2021       University of Buenos Aires  Argentina   \n",
       "4355         356  2021-2022       University of Buenos Aires  Argentina   \n",
       "595          596  2019-2020  National University of La Plata  Argentina   \n",
       "2618         619  2020-2021  National University of La Plata  Argentina   \n",
       "...          ...        ...                              ...        ...   \n",
       "3947        1948  2020-2021   Federal University of Amazonas     Brazil   \n",
       "5944        1945  2021-2022   Federal University of Amazonas     Brazil   \n",
       "3991        1992  2020-2021  Santa Catarina State University     Brazil   \n",
       "5995        1996  2021-2022  Santa Catarina State University     Brazil   \n",
       "3996        1997  2020-2021   Federal University of Maranhão     Brazil   \n",
       "\n",
       "      National Rank  Quality of Education Rank  Alumni Employment Rank  \\\n",
       "343               1                      238.0                  1222.0   \n",
       "2353              1                      327.0                  1281.0   \n",
       "4355              1                      319.0                  1347.0   \n",
       "595               2                      495.0                  1337.0   \n",
       "2618              2                        NaN                  1404.0   \n",
       "...             ...                        ...                     ...   \n",
       "3947             55                        NaN                     NaN   \n",
       "5944             55                        NaN                     NaN   \n",
       "3991             56                        NaN                  1019.0   \n",
       "5995             56                        NaN                   936.0   \n",
       "3996             57                        NaN                     NaN   \n",
       "\n",
       "      Quality of Faculty Rank  Research Performance Rank  Score  \n",
       "343                       NaN                      320.0   76.1  \n",
       "2353                      NaN                      321.0   75.9  \n",
       "4355                      NaN                      324.0   75.9  \n",
       "595                       NaN                      557.0   73.2  \n",
       "2618                      NaN                      583.0   73.0  \n",
       "...                       ...                        ...    ...  \n",
       "3947                      NaN                     1870.0   66.0  \n",
       "5944                      NaN                     1870.0   65.9  \n",
       "3991                      NaN                     1916.0   65.8  \n",
       "5995                      NaN                     1938.0   65.8  \n",
       "3996                      NaN                     1918.0   65.8  \n",
       "\n",
       "[196 rows x 10 columns]"
      ]
     },
     "execution_count": 93,
     "metadata": {},
     "output_type": "execute_result"
    }
   ],
   "source": [
    "# compute and store the answer in the variable 'sorted_rankings_arg_bra', then display it\n",
    "sorted_rankings_arg_bra = rankings_arg_bra.sort_values(by = [\"Country\", \"National Rank\"])\n",
    "sorted_rankings_arg_bra"
   ]
  },
  {
   "cell_type": "code",
   "execution_count": 94,
   "id": "a5a21a9c",
   "metadata": {},
   "outputs": [],
   "source": [
    "# run this cell to test whether 'sorted_rankings_arg_bra' has been defined properly\n",
    "\n",
    "assert(sorted_rankings_arg_bra.iloc[0][\"Institution\"] == \"University of Buenos Aires\")\n",
    "assert(sorted_rankings_arg_bra.iloc[-1][\"World Rank\"] == 1997)"
   ]
  },
  {
   "cell_type": "markdown",
   "id": "557b328d",
   "metadata": {},
   "source": [
    "### Task 2.7: Create a new, simplified DataFrame to track changes in rankings"
   ]
  },
  {
   "cell_type": "markdown",
   "id": "714acb5b",
   "metadata": {},
   "source": [
    "As we have seen, universities that have featured in rankings of multiple years are featured repeatedly. To simplify comparisons, we want to feature each university once and remove all other metrics. \n",
    "\n",
    "This time - instead of simply ranking universities, we want to find the **absolute change** in universities' rankings between the years *2019-2020* and *2020-2021*. We are only interested in the absolute change and **not** whether the rank improved or declined.  "
   ]
  },
  {
   "cell_type": "markdown",
   "id": "75fba1df",
   "metadata": {},
   "source": [
    "#### Task 2.7.1: Find the absolute difference in World Rank for \"University of Madras\" between 2019-2020 and 2020-2021\n",
    "\n",
    "First, let's attempt to measure the change for one particular university."
   ]
  },
  {
   "cell_type": "code",
   "execution_count": 97,
   "id": "4353ab3d",
   "metadata": {},
   "outputs": [
    {
     "data": {
      "text/plain": [
       "108"
      ]
     },
     "execution_count": 97,
     "metadata": {},
     "output_type": "execute_result"
    }
   ],
   "source": [
    "# compute and store the answer in the variable 'absolute_diff_madras', then display it\n",
    "# TODO: first find the ranking of \"University of Madras\" in the year \"2019-2020\"\n",
    "# TODO: then find the ranking of \"University of Madras\" in the year \"2020-2021\n",
    "# TODO: Remember to use .iloc[0] to extract the value\n",
    "\n",
    "first_year = rankings[(rankings[\"Institution\"] == \"University of Madras\") & (rankings[\"Year\"] == \"2019-2020\")].iloc[0][\"World Rank\"]\n",
    "second_year = rankings[(rankings[\"Institution\"] == \"University of Madras\") & (rankings[\"Year\"] == \"2020-2021\")].iloc[0][\"World Rank\"]\n",
    "absolute_diff_madras = abs(first_year - second_year)\n",
    "absolute_diff_madras"
   ]
  },
  {
   "cell_type": "code",
   "execution_count": 98,
   "id": "b6da84f0",
   "metadata": {},
   "outputs": [],
   "source": [
    "# run this cell to test whether 'absolute_diff_madras' has been defined properly\n",
    "\n",
    "assert(absolute_diff_madras == 108)"
   ]
  },
  {
   "cell_type": "markdown",
   "id": "e9c5dfd4",
   "metadata": {},
   "source": [
    "#### Task 2.7.2: Create a Series with the absolute difference in ranks for \"University of Madras\" between 2019-2020 and 2020-2021\n",
    "\n",
    "Now, create a **dictionary** with the keys as `Institution` and `Absolute Change`. The values should be the relevant values for *University of Madras*. Then, convert this **dictionary** to a **Series**."
   ]
  },
  {
   "cell_type": "code",
   "execution_count": 102,
   "id": "813a7351",
   "metadata": {},
   "outputs": [
    {
     "data": {
      "text/plain": [
       "Institution        University of Madras\n",
       "Absolute Change                     108\n",
       "dtype: object"
      ]
     },
     "execution_count": 102,
     "metadata": {},
     "output_type": "execute_result"
    }
   ],
   "source": [
    "# compute and store the answer in the variable 'madras_series', then display it\n",
    "\n",
    "# TODO: first define the dictionary 'madras_dict'\n",
    "madras_dict = {\"Institution\": \"University of Madras\", \"Absolute Change\": absolute_diff_madras}\n",
    "# TODO: then you can convert to a Series\n",
    "madras_series = pd.Series(madras_dict)\n",
    "\n",
    "madras_series"
   ]
  },
  {
   "cell_type": "code",
   "execution_count": 103,
   "id": "8c0fb02a",
   "metadata": {},
   "outputs": [],
   "source": [
    "# run this cell to test whether 'madras_series' has been defined properly\n",
    "\n",
    "assert(madras_series[\"Institution\"] == \"University of Madras\")\n",
    "assert(madras_series[\"Absolute Change\"] == 108)"
   ]
  },
  {
   "cell_type": "markdown",
   "id": "c069767a",
   "metadata": {},
   "source": [
    "#### Task 2.7.3: Create the `change_in_rankings` DataFrame\n",
    "\n",
    "Now, create a **DataFrame** `change_in_rankings` with just 2 columns, `Institution` and `Absolute Change` where **each** university is only featured once. If the institution is **not** present in the rankings of **both** years, we will just ignore it.\n",
    "\n",
    "The institutions should be **sorted** in *increasing* order of their **absolute change**. For institutions with the **same** absolute change, sort them *alphabetically* by their **names**.\n",
    "\n",
    "**Warning:** Even if your code is optimal, this cell may take a few seconds to run. However, if it takes much longer than that (say, if it takes 30 seconds or longer), then you will **need** to optimize your code so it runs faster."
   ]
  },
  {
   "cell_type": "code",
   "execution_count": null,
   "id": "92a57fe2",
   "metadata": {},
   "outputs": [],
   "source": [
    "# suggested approach (you may do it some other way if you wish)\n",
    "\n",
    "# TODO: initialize an empty list\n",
    "change_in_rankings = []\n",
    "# TODO: create a list of unique institutions in the DataFrame 'rankings'\n",
    "rankings[\"Institution\"].unique()\n",
    "# TODO: loop through these institutions\n",
    "\n",
    "    # TODO: create a new dataframe that has rankings for only this institution\n",
    "    #       (hint: Use boolean indexing for the \"Institution\" column)\n",
    "    # TODO: create a list of years by casting the \"Year\" column of this dataframe to a list\n",
    "    # TODO: skip institution if \"2019-2020\" or \"2020-2021\" are *not* in this list\n",
    "        \n",
    "    # TODO: extract the \"World Rank\" for both years from the new DataFrame \n",
    "    #       (remember to use .iloc[0] to extract the actual value)\n",
    "    # TODO: find their absolute difference\n",
    "       \n",
    "    # TODO: make a dictionary where the keys are “Institution” and “Absolute Change”\n",
    "    #       and the values are the corresponding values you just found for this institution\n",
    "    \n",
    "    # TODO: append this dictionary to the list initialized in the first step\n",
    "\n",
    "# TODO: finally, convert the list of dicts to a pandas DataFrame called change_in_rankings\n",
    "# TODO: sort this DataFrame using sort_values"
   ]
  },
  {
   "cell_type": "code",
   "execution_count": null,
   "id": "cd49ebb0",
   "metadata": {},
   "outputs": [],
   "source": [
    "# run this cell to test whether 'change_in_rankings' has been defined properly\n",
    "\n",
    "assert(change_in_rankings.iloc[100][\"Institution\"] == \"Vrije Universiteit Brussel\")\n",
    "assert(change_in_rankings.iloc[-1][\"Absolute Change\"] == 1081)\n",
    "assert(change_in_rankings.shape[1] == 2)"
   ]
  },
  {
   "cell_type": "markdown",
   "id": "54c815e5",
   "metadata": {},
   "source": [
    "# Segment 3: BeautifulSoup\n",
    "\n",
    "As mentioned in Segment 2, the `rankings.json` file was created by parsing HTML content on the Web, specifically the web pages listed below.\n",
    "\n",
    "* https://git.doit.wisc.edu/cdis/cs/courses/cs220/cs220-f22-projects/-/raw/main/p12/2019-2020.html\n",
    "* https://git.doit.wisc.edu/cdis/cs/courses/cs220/cs220-f22-projects/-/raw/main/p12/2020-2021.html\n",
    "* https://git.doit.wisc.edu/cdis/cs/courses/cs220/cs220-f22-projects/-/raw/main/p12/2021-2022.html\n",
    "\n",
    "Now, let's write a function to do this ourselves. We will use the `BeautifulSoup` module to scrape web pages and extract information. It is recommended that you review the relevant lecture code [here](https://git.doit.wisc.edu/cdis/cs/courses/cs220/cs220-lecture-material/-/tree/main/f22/meena_lec_notes/lec-31) if you get stuck at any point in this segment."
   ]
  },
  {
   "cell_type": "markdown",
   "id": "ae12fb9f",
   "metadata": {},
   "source": [
    "### Task 3.1: Download the HTML files\n",
    "\n",
    "Use the `download` function you previously created to download the contents of each of the URLs above and save them into files. Name the files `2019-2020.html`, `2020-2021.html` and `2021-2022.html` based on the respective URL."
   ]
  },
  {
   "cell_type": "code",
   "execution_count": 104,
   "id": "50cb15ff",
   "metadata": {},
   "outputs": [
    {
     "data": {
      "text/plain": [
       "'2019-2020.html created!'"
      ]
     },
     "execution_count": 104,
     "metadata": {},
     "output_type": "execute_result"
    }
   ],
   "source": [
    "# use the 'download' function to download the data from the webpage\n",
    "# 'https://git.doit.wisc.edu/cdis/cs/courses/cs220/cs220-f22-projects/-/raw/main/p12/2019-2020.html'\n",
    "# to the file '2019-2020.html'\n",
    "download('2019-2020.html', 'https://git.doit.wisc.edu/cdis/cs/courses/cs220/cs220-f22-projects/-/raw/main/p12/2019-2020.html')"
   ]
  },
  {
   "cell_type": "code",
   "execution_count": 105,
   "id": "6578b33b",
   "metadata": {},
   "outputs": [
    {
     "data": {
      "text/plain": [
       "'2020-2021.html created!'"
      ]
     },
     "execution_count": 105,
     "metadata": {},
     "output_type": "execute_result"
    }
   ],
   "source": [
    "# use the 'download' function to download the data from the webpage\n",
    "# 'https://git.doit.wisc.edu/cdis/cs/courses/cs220/cs220-f22-projects/-/raw/main/p12/2020-2021.html'\n",
    "# to the file '2020-2021.html'\n",
    "download('2020-2021.html', 'https://git.doit.wisc.edu/cdis/cs/courses/cs220/cs220-f22-projects/-/raw/main/p12/2020-2021.html')"
   ]
  },
  {
   "cell_type": "code",
   "execution_count": 106,
   "id": "bb54466f",
   "metadata": {},
   "outputs": [
    {
     "data": {
      "text/plain": [
       "'2021-2022.html created!'"
      ]
     },
     "execution_count": 106,
     "metadata": {},
     "output_type": "execute_result"
    }
   ],
   "source": [
    "# use the 'download' function to download the data from the webpage\n",
    "# 'https://git.doit.wisc.edu/cdis/cs/courses/cs220/cs220-f22-projects/-/raw/main/p12/2021-2022.html'\n",
    "# to the file '2021-2022.html'\n",
    "download('2021-2022.html', 'https://git.doit.wisc.edu/cdis/cs/courses/cs220/cs220-f22-projects/-/raw/main/p12/2021-2022.html')"
   ]
  },
  {
   "cell_type": "markdown",
   "id": "59510a31",
   "metadata": {},
   "source": [
    "### Task 3.2: Read `2019-2020.html`\n",
    "\n",
    "First, read the contents of the file `2019-2020.html`.\n",
    "\n",
    "**Hint:** If you get a `UnicodeDecodeError`, make sure all your calls to `open` have the keyword argument `encoding=\"utf-8\"`."
   ]
  },
  {
   "cell_type": "code",
   "execution_count": 108,
   "id": "e09ba60f",
   "metadata": {},
   "outputs": [],
   "source": [
    "# write your code here - you may use any variable names you want to\n",
    "with open(\"2019-2020.html\", mode = \"r\", encoding=\"utf-8\") as f:\n",
    "    html_2019_2020 = f.read()"
   ]
  },
  {
   "cell_type": "markdown",
   "id": "7198846c",
   "metadata": {},
   "source": [
    "### Task 3.3: Initialize `BeautifulSoup` object instance\n",
    "\n",
    "Use the variable defined in Task 3.2. You can review the relevant lecture code [here](https://git.doit.wisc.edu/cdis/cs/courses/cs220/cs220-lecture-material/-/tree/main/f22/meena_lec_notes/lec-31)."
   ]
  },
  {
   "cell_type": "code",
   "execution_count": 109,
   "id": "c7707a22",
   "metadata": {},
   "outputs": [],
   "source": [
    "# write your code here - you may use any variable names you want to\n",
    "tmp = BeautifulSoup(html_2019_2020)"
   ]
  },
  {
   "cell_type": "markdown",
   "id": "874a8204",
   "metadata": {},
   "source": [
    "### Task 3.4: Find the `table` element\n",
    "\n",
    "The webpage has a `table` containing all the data we're trying to extract. Write the code to **find** this element and store it in a variable. Use the `BeautifulSoup` object instance defined in Task 3.3."
   ]
  },
  {
   "cell_type": "code",
   "execution_count": 116,
   "id": "73e2fc79",
   "metadata": {},
   "outputs": [
    {
     "data": {
      "text/plain": [
       "<tr>\n",
       "<th style=\"vertical-align:middle\">World Rank</th>\n",
       "<th style=\"vertical-align:middle\">Institution</th>\n",
       "<th style=\"vertical-align:middle\">Country</th>\n",
       "<th style=\"vertical-align:middle\">National Rank</th>\n",
       "<th style=\"vertical-align:middle\">Quality of Education Rank</th>\n",
       "<th style=\"vertical-align:middle\">Alumni Employment Rank</th>\n",
       "<th style=\"vertical-align:middle\">Quality of Faculty Rank</th>\n",
       "<th style=\"vertical-align:middle\">Research Performance Rank</th>\n",
       "<th style=\"vertical-align:middle\">Score</th>\n",
       "</tr>"
      ]
     },
     "execution_count": 116,
     "metadata": {},
     "output_type": "execute_result"
    }
   ],
   "source": [
    "# write your code here - you may use any variable names you want to\n",
    "tmp.find(\"tr\")"
   ]
  },
  {
   "cell_type": "markdown",
   "id": "0659d77c",
   "metadata": {},
   "source": [
    "### Task 3.5: Find all `th` tags, to parse the table header\n",
    "\n",
    "Use the variable defined in Task 3.4.\n",
    "\n",
    "**Hint**: The **header** should be a **list** of elements, that can be obtained by using the `get_text` method for each `th` element in the table. You may also find list comprehension useful here."
   ]
  },
  {
   "cell_type": "code",
   "execution_count": 119,
   "id": "10082cbf",
   "metadata": {},
   "outputs": [
    {
     "data": {
      "text/plain": [
       "['World Rank',\n",
       " 'Institution',\n",
       " 'Country',\n",
       " 'National Rank',\n",
       " 'Quality of Education Rank',\n",
       " 'Alumni Employment Rank',\n",
       " 'Quality of Faculty Rank',\n",
       " 'Research Performance Rank',\n",
       " 'Score']"
      ]
     },
     "execution_count": 119,
     "metadata": {},
     "output_type": "execute_result"
    }
   ],
   "source": [
    "# compute and store the answer in the variable 'header', then display it\n",
    "header = [i.get_text() for i in tmp.find_all(\"th\")]\n",
    "header"
   ]
  },
  {
   "cell_type": "code",
   "execution_count": 120,
   "id": "2abf9e15",
   "metadata": {},
   "outputs": [],
   "source": [
    "# run this cell to test whether 'header' has been defined properly\n",
    "\n",
    "assert(len(header) == 9)\n",
    "assert(type(header) == list)\n",
    "assert(header[0] == \"World Rank\")\n",
    "assert(header[-1] == \"Score\")"
   ]
  },
  {
   "cell_type": "markdown",
   "id": "b86fca71",
   "metadata": {},
   "source": [
    "### Task 3.6: Build row dictionary for one row\n",
    "\n",
    "Scrape the **second** row (the first one is the **header**!) of the `table`, convert the data to the appropriate **data types**, and populate the data into a **dictionary**. The **keys** of the dictionary **must** be the columns in the **DataFrame**. **Avoid** *hardcoding* these **keys** - instead, use the variable `header` obtained in the previous task.\n",
    "\n",
    "**Hint**: Rows can be found by locating the `tr` elements in the table. After identifying the second row of the table, try to figure out which tag separates the different columns.\n",
    "\n",
    "The required data types for each column is:\n",
    "\n",
    "|**Column Name**|**Data Type**|\n",
    "|---------------|-------------|\n",
    "|`World Rank`|**int**|\n",
    "|`Institution`|**str**|\n",
    "|`Country`|**str**|\n",
    "|`National Rank`|**int**|\n",
    "|`Quality of Education Rank`|**int**|\n",
    "|`Alumni Employment Rank`|**int**|\n",
    "|`Quality of Faculty Rank`|**int**|\n",
    "|`Research Performance Rank`|**int**|\n",
    "|`Score`|**float**|\n",
    "\n",
    "You can **compare** your output with the data in `rankings.json`, to confirm whether you have parsed the file correctly (note that you do **not** yet have to implement the `Year` column in your **dicitonary**)."
   ]
  },
  {
   "cell_type": "code",
   "execution_count": 124,
   "id": "8affe622",
   "metadata": {},
   "outputs": [],
   "source": [
    "# write your code here - you may use any variable names you want to\n",
    "tmp.find_all(\"td\")[:9]\n",
    "\n",
    "row_dict = {}\n",
    "for h in header:\n",
    "    if h == \"Institution\" or h == \"Country\":\n",
    "        row_dict[h] = str()\n",
    "    elif h == \"Score\":\n",
    "        row_dict[h] = float()\n",
    "    else:\n",
    "        row_dict[h] = int()"
   ]
  },
  {
   "cell_type": "markdown",
   "id": "4fff288f",
   "metadata": {},
   "source": [
    "### Task 3.7: Build list of all row dictionaries\n",
    "\n",
    "Scrape **all** rows, **convert** data to appropriate types, and populate data into a row **dictionary** and append row all dictionaries to a **list**.\n",
    "\n",
    "This is a natural extension of Task 3.6. You can use a loop to extract all rows and populate the list.\n",
    "\n",
    "**Important**:\n",
    "* Some fields in the dataset have **missing** values, represented simply as `\"-\"`. Such **missing** values should be replaced by `None` in your **dictionary**."
   ]
  },
  {
   "cell_type": "code",
   "execution_count": null,
   "id": "401e5a99",
   "metadata": {},
   "outputs": [],
   "source": [
    "# write your code here - you may use any variable names you want to\n"
   ]
  },
  {
   "cell_type": "markdown",
   "id": "83ed2994",
   "metadata": {},
   "source": [
    "### Task 3.8: Write the `parse_html` function\n",
    "\n",
    "Convert tasks 3.2 to 3.7 to a **function**. This function `parse_html` should take in a `filename` as **input** and **return** a **list** of **dictionaries**, with each **dictionary** representing a **row** in the dataset.\n",
    "\n",
    "Additionally, we **also** want to include the **key** `Year` to all our **dictionaries**. The `Year` value is **not** present in the dataset. You can extract this value from the `filename`."
   ]
  },
  {
   "cell_type": "code",
   "execution_count": null,
   "id": "a855afdc",
   "metadata": {},
   "outputs": [],
   "source": [
    "def parse_html(filename):\n",
    "    '''parse_html(filename) parses an HTML file and \n",
    "    returns a list of dictionaries containing the tabular data'''\n",
    "    f = open(filename)\n",
    "    rankings_str = f.read()\n",
    "    f.close()\n",
    "\n",
    "    bs_obj = BeautifulSoup(rankings_str, \"html.parser\")\n",
    "    \n",
    "    table = bs_obj.find(\"table\") # works only when you have exactly 1 table\n",
    "    header = [th.get_text() for th in table.find_all('th')]\n",
    "\n",
    "    rankings_data = []\n",
    "\n",
    "    tr_elements = table.find_all('tr')\n",
    "    for tr in tr_elements[1:]: # Skip first row (header row)\n",
    "        movie = {}\n",
    "        td_elements = tr.find_all('td')\n",
    "        for idx in range(len(td_elements)):\n",
    "            td = td_elements[idx]\n",
    "            val = td.get_text()\n",
    "            if header[idx] in [\"Institution\", \"Country\"]:\n",
    "                rankings[header[idx]] = int(val)\n",
    "            elif header[idx] == \"Score\":\n",
    "                rankings[header[idx]] = float(val)\n",
    "            else:\n",
    "                rankings[header[idx]] = val\n",
    "        rankings_data.append(rankings)\n",
    "    \n",
    "    return movies_data"
   ]
  },
  {
   "cell_type": "code",
   "execution_count": null,
   "id": "4c39ca4e",
   "metadata": {},
   "outputs": [],
   "source": [
    "# run this cell to test whether 'parse_html' has been defined properly\n",
    "\n",
    "parsed_2019_2020 = parse_html(\"2019-2020.html\")\n",
    "parsed_2020_2021 = parse_html(\"2020-2021.html\")\n",
    "parsed_2021_2022 = parse_html(\"2021-2022.html\")\n",
    "assert(parsed_2019_2020[-1][\"Institution\"] == 'Government College University Faisalabad')\n",
    "assert(parsed_2020_2021[15][\"Score\"] == 89.0)\n",
    "assert(parsed_2021_2022[100][\"Country\"] == 'United Kingdom')\n",
    "assert(parsed_2021_2022[25][\"World Rank\"] == 26)\n",
    "assert(parsed_2020_2021[-5][\"National Rank\"] == 15)\n",
    "assert(parsed_2019_2020[50][\"Quality of Faculty Rank\"] == 78)\n",
    "assert(parsed_2021_2022[87][\"Alumni Employment Rank\"] == 464)\n",
    "assert(parsed_2020_2021[40][\"Research Performance Rank\"] == 398)\n",
    "assert(parsed_2019_2020[0][\"Year\"] == \"2019-2020\")"
   ]
  },
  {
   "cell_type": "markdown",
   "id": "c3c48aa9",
   "metadata": {},
   "source": [
    "If you fail any of the checks above, you can open `rankings.json` **manually** and compare with the output of your `parse_html` function."
   ]
  },
  {
   "cell_type": "markdown",
   "id": "4f2b7c36",
   "metadata": {},
   "source": [
    "### Congratulations, you are now ready to start p12!"
   ]
  }
 ],
 "metadata": {
  "kernelspec": {
   "display_name": "Python 3 (ipykernel)",
   "language": "python",
   "name": "python3"
  },
  "language_info": {
   "codemirror_mode": {
    "name": "ipython",
    "version": 3
   },
   "file_extension": ".py",
   "mimetype": "text/x-python",
   "name": "python",
   "nbconvert_exporter": "python",
   "pygments_lexer": "ipython3",
   "version": "3.9.12"
  }
 },
 "nbformat": 4,
 "nbformat_minor": 5
}
